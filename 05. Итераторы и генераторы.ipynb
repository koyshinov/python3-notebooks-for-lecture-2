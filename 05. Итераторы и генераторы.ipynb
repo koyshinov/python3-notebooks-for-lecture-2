{
 "cells": [
  {
   "cell_type": "code",
   "execution_count": 1,
   "id": "74d2d069",
   "metadata": {},
   "outputs": [],
   "source": [
    "foo = [1, 2, 3]\n",
    "boo = iter(foo)"
   ]
  },
  {
   "cell_type": "code",
   "execution_count": 2,
   "id": "3296cb82",
   "metadata": {},
   "outputs": [
    {
     "name": "stdout",
     "output_type": "stream",
     "text": [
      "1\n",
      "2\n",
      "3\n"
     ]
    }
   ],
   "source": [
    "print(next(boo))\n",
    "print(next(boo))\n",
    "print(next(boo))"
   ]
  },
  {
   "cell_type": "code",
   "execution_count": 3,
   "id": "fb99e111",
   "metadata": {},
   "outputs": [
    {
     "name": "stdout",
     "output_type": "stream",
     "text": [
      "Сработал StopIteration\n"
     ]
    }
   ],
   "source": [
    "try:\n",
    "    next(boo)\n",
    "except StopIteration:\n",
    "    print('Сработал StopIteration')"
   ]
  },
  {
   "cell_type": "code",
   "execution_count": 4,
   "id": "1ca049fd",
   "metadata": {},
   "outputs": [
    {
     "name": "stdout",
     "output_type": "stream",
     "text": [
      "1\n",
      "2\n",
      "3\n",
      "4\n",
      "5\n",
      "6\n",
      "7\n"
     ]
    }
   ],
   "source": [
    "class FooIter:\n",
    "    a = 0\n",
    "    \n",
    "    def __next__(self):\n",
    "        if self.a == 7:\n",
    "            raise StopIteration\n",
    "        self.a += 1\n",
    "        return self.a\n",
    "\n",
    "    \n",
    "class Foo:\n",
    "    def __iter__(self):\n",
    "        return FooIter()\n",
    "\n",
    "\n",
    "for i in Foo():\n",
    "    print(i)"
   ]
  },
  {
   "cell_type": "code",
   "execution_count": 5,
   "id": "5721e168",
   "metadata": {},
   "outputs": [
    {
     "data": {
      "text/plain": [
       "[1, 2, 3, 4, 5, 6, 7]"
      ]
     },
     "execution_count": 5,
     "metadata": {},
     "output_type": "execute_result"
    }
   ],
   "source": [
    "list(Foo())"
   ]
  },
  {
   "cell_type": "code",
   "execution_count": 6,
   "id": "121b83cf",
   "metadata": {},
   "outputs": [
    {
     "name": "stdout",
     "output_type": "stream",
     "text": [
      "1 1\n",
      "2 1\n",
      "3 2\n",
      "4 3\n",
      "5 5\n",
      "6 8\n",
      "7 13\n"
     ]
    }
   ],
   "source": [
    "def fibonacci_sequence():\n",
    "    i1, i2 = 1, 1\n",
    "    yield i1\n",
    "    \n",
    "    while True:\n",
    "        i1, i2 = i2, i1+i2\n",
    "        yield i1\n",
    "        \n",
    "        \n",
    "for i, fib in enumerate(fibonacci_sequence(), 1):\n",
    "    if fib > 20:\n",
    "        break\n",
    "        \n",
    "    print(i, fib)\n",
    "    "
   ]
  }
 ],
 "metadata": {
  "kernelspec": {
   "display_name": "Python 3 (ipykernel)",
   "language": "python",
   "name": "python3"
  },
  "language_info": {
   "codemirror_mode": {
    "name": "ipython",
    "version": 3
   },
   "file_extension": ".py",
   "mimetype": "text/x-python",
   "name": "python",
   "nbconvert_exporter": "python",
   "pygments_lexer": "ipython3",
   "version": "3.9.7"
  }
 },
 "nbformat": 4,
 "nbformat_minor": 5
}
