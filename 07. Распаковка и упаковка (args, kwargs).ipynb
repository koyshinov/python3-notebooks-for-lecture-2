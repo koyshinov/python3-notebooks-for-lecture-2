{
 "cells": [
  {
   "cell_type": "code",
   "execution_count": 1,
   "id": "0b7b9d00",
   "metadata": {},
   "outputs": [
    {
     "name": "stdout",
     "output_type": "stream",
     "text": [
      "<class 'tuple'> (1, None, 0.5)\n",
      "<class 'dict'> {'default_value': 7, 'bar': None}\n"
     ]
    }
   ],
   "source": [
    "def foo(*args, **kwargs):\n",
    "    print(type(args), args)\n",
    "    print(type(kwargs), kwargs)\n",
    "    \n",
    "    \n",
    "foo(1, None, .5, default_value=7, bar=None)"
   ]
  },
  {
   "cell_type": "code",
   "execution_count": 2,
   "id": "c2bca592",
   "metadata": {},
   "outputs": [
    {
     "data": {
      "text/plain": [
       "(3, 5)"
      ]
     },
     "execution_count": 2,
     "metadata": {},
     "output_type": "execute_result"
    }
   ],
   "source": [
    "def bar(a, b):\n",
    "    return a, b\n",
    "    \n",
    "\n",
    "some_dict = {'a': 3, 'b':5}\n",
    "bar(**some_dict)"
   ]
  },
  {
   "cell_type": "code",
   "execution_count": 3,
   "id": "9aaf49a0",
   "metadata": {},
   "outputs": [
    {
     "data": {
      "text/plain": [
       "(1, 2, 3, 4)"
      ]
     },
     "execution_count": 3,
     "metadata": {},
     "output_type": "execute_result"
    }
   ],
   "source": [
    "a, b, c, d = 1, 2, 3, 4\n",
    "a, b, c, d"
   ]
  },
  {
   "cell_type": "code",
   "execution_count": 4,
   "id": "1fc894ca",
   "metadata": {},
   "outputs": [
    {
     "data": {
      "text/plain": [
       "(1, 4)"
      ]
     },
     "execution_count": 4,
     "metadata": {},
     "output_type": "execute_result"
    }
   ],
   "source": [
    "foo, *others, bar = 1, 2, 3, 4\n",
    "foo, bar"
   ]
  },
  {
   "cell_type": "code",
   "execution_count": 5,
   "id": "05644f62",
   "metadata": {},
   "outputs": [
    {
     "data": {
      "text/plain": [
       "[2, 3]"
      ]
     },
     "execution_count": 5,
     "metadata": {},
     "output_type": "execute_result"
    }
   ],
   "source": [
    "others"
   ]
  },
  {
   "cell_type": "code",
   "execution_count": 6,
   "id": "0cd11ee9",
   "metadata": {},
   "outputs": [
    {
     "data": {
      "text/plain": [
       "{'a': 2, 'b': 3, 'c': 4, 'd': 7}"
      ]
     },
     "execution_count": 6,
     "metadata": {},
     "output_type": "execute_result"
    }
   ],
   "source": [
    "d1 = dict(a=2, b=3)\n",
    "d2 = dict(c=4, d=7)\n",
    "{**d1, **d2}"
   ]
  },
  {
   "cell_type": "code",
   "execution_count": 7,
   "id": "1fdb6633",
   "metadata": {},
   "outputs": [
    {
     "name": "stdout",
     "output_type": "stream",
     "text": [
      "sum() takes at most 2 arguments (4 given)\n"
     ]
    }
   ],
   "source": [
    "try:\n",
    "    sum(1, 3, 2, 10)\n",
    "except Exception as e:\n",
    "    print(e)\n",
    "    "
   ]
  },
  {
   "cell_type": "code",
   "execution_count": 8,
   "id": "24043737",
   "metadata": {},
   "outputs": [
    {
     "data": {
      "text/plain": [
       "16"
      ]
     },
     "execution_count": 8,
     "metadata": {},
     "output_type": "execute_result"
    }
   ],
   "source": [
    "sum((1, 3, 2, 10))"
   ]
  },
  {
   "cell_type": "code",
   "execution_count": 9,
   "id": "44e2f933",
   "metadata": {},
   "outputs": [
    {
     "data": {
      "text/plain": [
       "16"
      ]
     },
     "execution_count": 9,
     "metadata": {},
     "output_type": "execute_result"
    }
   ],
   "source": [
    "def custom_sum(*args):\n",
    "    return sum(args)\n",
    "\n",
    "\n",
    "custom_sum(1, 3, 2, 10)"
   ]
  }
 ],
 "metadata": {
  "kernelspec": {
   "display_name": "Python 3 (ipykernel)",
   "language": "python",
   "name": "python3"
  },
  "language_info": {
   "codemirror_mode": {
    "name": "ipython",
    "version": 3
   },
   "file_extension": ".py",
   "mimetype": "text/x-python",
   "name": "python",
   "nbconvert_exporter": "python",
   "pygments_lexer": "ipython3",
   "version": "3.9.7"
  }
 },
 "nbformat": 4,
 "nbformat_minor": 5
}
