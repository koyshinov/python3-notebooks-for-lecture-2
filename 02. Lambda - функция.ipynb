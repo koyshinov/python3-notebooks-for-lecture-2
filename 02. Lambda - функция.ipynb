{
 "cells": [
  {
   "cell_type": "code",
   "execution_count": 1,
   "id": "12eaa45f",
   "metadata": {},
   "outputs": [],
   "source": [
    "def bar(x):\n",
    "    return abs(x)"
   ]
  },
  {
   "cell_type": "code",
   "execution_count": 2,
   "id": "27f58267",
   "metadata": {},
   "outputs": [],
   "source": [
    "foo = lambda x: abs(x)"
   ]
  },
  {
   "cell_type": "code",
   "execution_count": 3,
   "id": "2716e6b7",
   "metadata": {},
   "outputs": [
    {
     "data": {
      "text/plain": [
       "True"
      ]
     },
     "execution_count": 3,
     "metadata": {},
     "output_type": "execute_result"
    }
   ],
   "source": [
    "bar(-6) == foo(-6) == 6"
   ]
  },
  {
   "cell_type": "code",
   "execution_count": 4,
   "id": "0d54a27f",
   "metadata": {},
   "outputs": [],
   "source": [
    "a = [-2, 0, 6, -8, 1, 9]"
   ]
  },
  {
   "cell_type": "code",
   "execution_count": 5,
   "id": "09a0eaa1",
   "metadata": {},
   "outputs": [
    {
     "data": {
      "text/plain": [
       "[0, 1, -2, 6, -8, 9]"
      ]
     },
     "execution_count": 5,
     "metadata": {},
     "output_type": "execute_result"
    }
   ],
   "source": [
    "sorted(a, key=bar)"
   ]
  },
  {
   "cell_type": "code",
   "execution_count": 6,
   "id": "bf730533",
   "metadata": {},
   "outputs": [
    {
     "data": {
      "text/plain": [
       "[0, 1, -2, 6, -8, 9]"
      ]
     },
     "execution_count": 6,
     "metadata": {},
     "output_type": "execute_result"
    }
   ],
   "source": [
    "sorted(a, key=foo)"
   ]
  },
  {
   "cell_type": "code",
   "execution_count": 7,
   "id": "20db3a62",
   "metadata": {},
   "outputs": [
    {
     "data": {
      "text/plain": [
       "[0, 1, -2, 6, -8, 9]"
      ]
     },
     "execution_count": 7,
     "metadata": {},
     "output_type": "execute_result"
    }
   ],
   "source": [
    "sorted(a, key=lambda x: abs(x))"
   ]
  },
  {
   "cell_type": "code",
   "execution_count": 8,
   "id": "cee5e9f9",
   "metadata": {},
   "outputs": [
    {
     "data": {
      "text/plain": [
       "0"
      ]
     },
     "execution_count": 8,
     "metadata": {},
     "output_type": "execute_result"
    }
   ],
   "source": [
    "min(a, key=lambda x: abs(x))"
   ]
  },
  {
   "cell_type": "code",
   "execution_count": 9,
   "id": "884fd437",
   "metadata": {},
   "outputs": [
    {
     "data": {
      "text/plain": [
       "[-2, 0, 6, -8]"
      ]
     },
     "execution_count": 9,
     "metadata": {},
     "output_type": "execute_result"
    }
   ],
   "source": [
    "list(filter(lambda x: x%2==0, a))"
   ]
  }
 ],
 "metadata": {
  "kernelspec": {
   "display_name": "Python 3 (ipykernel)",
   "language": "python",
   "name": "python3"
  },
  "language_info": {
   "codemirror_mode": {
    "name": "ipython",
    "version": 3
   },
   "file_extension": ".py",
   "mimetype": "text/x-python",
   "name": "python",
   "nbconvert_exporter": "python",
   "pygments_lexer": "ipython3",
   "version": "3.9.7"
  }
 },
 "nbformat": 4,
 "nbformat_minor": 5
}
