{
 "cells": [
  {
   "cell_type": "code",
   "execution_count": 1,
   "id": "0c782611",
   "metadata": {},
   "outputs": [
    {
     "data": {
      "text/plain": [
       "[0, 1, 4, 9, 16]"
      ]
     },
     "execution_count": 1,
     "metadata": {},
     "output_type": "execute_result"
    }
   ],
   "source": [
    "list(x**2 for x in range(5))"
   ]
  },
  {
   "cell_type": "code",
   "execution_count": 2,
   "id": "79db2ae8",
   "metadata": {},
   "outputs": [
    {
     "data": {
      "text/plain": [
       "(0, 1, 4, 9, 16)"
      ]
     },
     "execution_count": 2,
     "metadata": {},
     "output_type": "execute_result"
    }
   ],
   "source": [
    "tuple(x**2 for x in range(5))"
   ]
  },
  {
   "cell_type": "code",
   "execution_count": 3,
   "id": "bbb967c5",
   "metadata": {},
   "outputs": [
    {
     "data": {
      "text/plain": [
       "{0, 1, 4, 9, 16}"
      ]
     },
     "execution_count": 3,
     "metadata": {},
     "output_type": "execute_result"
    }
   ],
   "source": [
    "set(x**2 for x in range(5))"
   ]
  },
  {
   "cell_type": "code",
   "execution_count": 4,
   "id": "783c9009",
   "metadata": {},
   "outputs": [],
   "source": [
    "d = dict((x, x**2) for x in range(5))"
   ]
  },
  {
   "cell_type": "code",
   "execution_count": 5,
   "id": "062a87e8",
   "metadata": {},
   "outputs": [
    {
     "data": {
      "text/plain": [
       "{0: 0, 1: 1, 2: 4, 3: 9, 4: 16}"
      ]
     },
     "execution_count": 5,
     "metadata": {},
     "output_type": "execute_result"
    }
   ],
   "source": [
    "d"
   ]
  },
  {
   "cell_type": "code",
   "execution_count": 6,
   "id": "4c17a277",
   "metadata": {},
   "outputs": [
    {
     "data": {
      "text/plain": [
       "9"
      ]
     },
     "execution_count": 6,
     "metadata": {},
     "output_type": "execute_result"
    }
   ],
   "source": [
    "d[3]"
   ]
  },
  {
   "cell_type": "code",
   "execution_count": 7,
   "id": "e7f18b20",
   "metadata": {},
   "outputs": [
    {
     "data": {
      "text/plain": [
       "True"
      ]
     },
     "execution_count": 7,
     "metadata": {},
     "output_type": "execute_result"
    }
   ],
   "source": [
    "any(x%2==0 for x in range(2, 4))"
   ]
  },
  {
   "cell_type": "code",
   "execution_count": 8,
   "id": "f091284b",
   "metadata": {},
   "outputs": [
    {
     "data": {
      "text/plain": [
       "False"
      ]
     },
     "execution_count": 8,
     "metadata": {},
     "output_type": "execute_result"
    }
   ],
   "source": [
    "all(x%2==0 for x in range(2, 4))"
   ]
  },
  {
   "cell_type": "code",
   "execution_count": 9,
   "id": "fbfc6ccb",
   "metadata": {},
   "outputs": [
    {
     "data": {
      "text/plain": [
       "[0, 2, 4, 6, 8]"
      ]
     },
     "execution_count": 9,
     "metadata": {},
     "output_type": "execute_result"
    }
   ],
   "source": [
    "list(x for x in range(10) if x%2==0)"
   ]
  },
  {
   "cell_type": "code",
   "execution_count": 10,
   "id": "c573dad6",
   "metadata": {},
   "outputs": [
    {
     "data": {
      "text/plain": [
       "[(0, 'чет'), (1, 'нечет'), (2, 'чет'), (3, 'нечет'), (4, 'чет')]"
      ]
     },
     "execution_count": 10,
     "metadata": {},
     "output_type": "execute_result"
    }
   ],
   "source": [
    "foo = list()\n",
    "\n",
    "for x in range(5):\n",
    "    if x%2==0:\n",
    "        foo.append((x, 'чет'))\n",
    "    else:\n",
    "        foo.append((x, 'нечет'))\n",
    "        \n",
    "foo"
   ]
  },
  {
   "cell_type": "code",
   "execution_count": 11,
   "id": "f13d055e",
   "metadata": {},
   "outputs": [
    {
     "data": {
      "text/plain": [
       "[(0, 'чет'), (1, 'нечет'), (2, 'чет'), (3, 'нечет'), (4, 'чет')]"
      ]
     },
     "execution_count": 11,
     "metadata": {},
     "output_type": "execute_result"
    }
   ],
   "source": [
    "list((x, 'чет' if x%2==0 else 'нечет') for x in range(5))"
   ]
  }
 ],
 "metadata": {
  "kernelspec": {
   "display_name": "Python 3 (ipykernel)",
   "language": "python",
   "name": "python3"
  },
  "language_info": {
   "codemirror_mode": {
    "name": "ipython",
    "version": 3
   },
   "file_extension": ".py",
   "mimetype": "text/x-python",
   "name": "python",
   "nbconvert_exporter": "python",
   "pygments_lexer": "ipython3",
   "version": "3.9.7"
  }
 },
 "nbformat": 4,
 "nbformat_minor": 5
}
