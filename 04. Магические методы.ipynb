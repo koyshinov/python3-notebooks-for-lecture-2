{
 "cells": [
  {
   "cell_type": "code",
   "execution_count": 1,
   "id": "af0fd835",
   "metadata": {},
   "outputs": [
    {
     "data": {
      "text/plain": [
       "['__add__',\n",
       " '__class__',\n",
       " '__class_getitem__',\n",
       " '__contains__',\n",
       " '__delattr__',\n",
       " '__delitem__',\n",
       " '__dir__',\n",
       " '__doc__',\n",
       " '__eq__',\n",
       " '__format__',\n",
       " '__ge__',\n",
       " '__getattribute__',\n",
       " '__getitem__',\n",
       " '__gt__',\n",
       " '__hash__',\n",
       " '__iadd__',\n",
       " '__imul__',\n",
       " '__init__',\n",
       " '__init_subclass__',\n",
       " '__iter__']"
      ]
     },
     "execution_count": 1,
     "metadata": {},
     "output_type": "execute_result"
    }
   ],
   "source": [
    "dir(list)[:20]"
   ]
  },
  {
   "cell_type": "code",
   "execution_count": 2,
   "id": "9cb38e06",
   "metadata": {},
   "outputs": [
    {
     "data": {
      "text/plain": [
       "['__le__',\n",
       " '__len__',\n",
       " '__lt__',\n",
       " '__mul__',\n",
       " '__ne__',\n",
       " '__new__',\n",
       " '__reduce__',\n",
       " '__reduce_ex__',\n",
       " '__repr__',\n",
       " '__reversed__',\n",
       " '__rmul__',\n",
       " '__setattr__',\n",
       " '__setitem__',\n",
       " '__sizeof__',\n",
       " '__str__',\n",
       " '__subclasshook__',\n",
       " 'append',\n",
       " 'clear',\n",
       " 'copy',\n",
       " 'count',\n",
       " 'extend',\n",
       " 'index',\n",
       " 'insert',\n",
       " 'pop',\n",
       " 'remove',\n",
       " 'reverse',\n",
       " 'sort']"
      ]
     },
     "execution_count": 2,
     "metadata": {},
     "output_type": "execute_result"
    }
   ],
   "source": [
    "dir(list)[20:]"
   ]
  },
  {
   "cell_type": "code",
   "execution_count": 3,
   "id": "a41241b8",
   "metadata": {},
   "outputs": [],
   "source": [
    "from dataclasses import dataclass\n",
    "\n",
    "\n",
    "@dataclass\n",
    "class Vector:\n",
    "    x: int\n",
    "    y: int\n",
    "    \n",
    "    def __add__(self, other):\n",
    "        return self.__class__(x=self.x+other.x, y=self.y+other.y)\n",
    "    \n",
    "    def __mul__(self, other):\n",
    "        if not isinstance(other, (int, float)):\n",
    "            raise ValueError\n",
    "        return self.__class__(x=other*self.x, y=other*self.y)"
   ]
  },
  {
   "cell_type": "code",
   "execution_count": 4,
   "id": "e506341c",
   "metadata": {},
   "outputs": [
    {
     "data": {
      "text/plain": [
       "Vector(x=5, y=4)"
      ]
     },
     "execution_count": 4,
     "metadata": {},
     "output_type": "execute_result"
    }
   ],
   "source": [
    "Vector(x=2, y=-1) + Vector(x=3, y=5)"
   ]
  },
  {
   "cell_type": "code",
   "execution_count": 5,
   "id": "e30ab125",
   "metadata": {},
   "outputs": [
    {
     "data": {
      "text/plain": [
       "Vector(x=6, y=-3)"
      ]
     },
     "execution_count": 5,
     "metadata": {},
     "output_type": "execute_result"
    }
   ],
   "source": [
    "Vector(x=2, y=-1) * 3"
   ]
  }
 ],
 "metadata": {
  "kernelspec": {
   "display_name": "Python 3 (ipykernel)",
   "language": "python",
   "name": "python3"
  },
  "language_info": {
   "codemirror_mode": {
    "name": "ipython",
    "version": 3
   },
   "file_extension": ".py",
   "mimetype": "text/x-python",
   "name": "python",
   "nbconvert_exporter": "python",
   "pygments_lexer": "ipython3",
   "version": "3.9.7"
  }
 },
 "nbformat": 4,
 "nbformat_minor": 5
}
